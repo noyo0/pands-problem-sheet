{
 "cells": [
  {
   "cell_type": "markdown",
   "metadata": {},
   "source": [
    "## ATU-Galway - Programming and Scripting\n",
    "### Author: Norbert Antal\n",
    "#### **pands-problem-sheet**\n",
    "###### This \"pands-problem-sheet\" folder contains solutions for the weekly tasks."
   ]
  },
  {
   "cell_type": "markdown",
   "metadata": {},
   "source": [
    "#### Week01\n",
    "> w01_helloworld.py  \n",
    ">> Program displays \"Hello World!\"\n",
    "print(\"Hello World!\")"
   ]
  },
  {
   "cell_type": "code",
   "execution_count": 5,
   "metadata": {},
   "outputs": [
    {
     "name": "stdout",
     "output_type": "stream",
     "text": [
      "Hello World!\n"
     ]
    }
   ],
   "source": [
    "print(\"Hello World!\")"
   ]
  },
  {
   "cell_type": "markdown",
   "metadata": {},
   "source": [
    "#### Week02\n",
    "> w02_bank.py\n",
    ">> Program prompts the user and read in two money amounts in cents, adds the two amounts together and outputs the answer with a euro sign and decimal point between the euro and cent of the amount."
   ]
  },
  {
   "cell_type": "code",
   "execution_count": 6,
   "metadata": {},
   "outputs": [
    {
     "name": "stdout",
     "output_type": "stream",
     "text": [
      "Enter the first amount (in cents):\t 534456\n",
      "Enter the second amount (in cents):\t 456456\n",
      "The sum of these is: \t\t\t€9909.12\n"
     ]
    }
   ],
   "source": [
    "# Prompt user for two money amounts (in cent)\n",
    "amount1 = int(input(\"Enter the first amount (in cents):\\t \"))\n",
    "amount2 = int(input(\"Enter the second amount (in cents):\\t \"))\n",
    "# Add the two amounts and divide sum by 100 to convert cents to euros\n",
    "eur = (amount1+amount2)/100\n",
    "# Display result in requested format\n",
    "print(f\"The sum of these is: \\t\\t\\t€{eur}\")"
   ]
  },
  {
   "cell_type": "markdown",
   "metadata": {},
   "source": [
    "> w03_accounts2lenght.py\n",
    ">> Program promts user for a 10 digit account number, reads in the account number and outputs  the last 4 digit of the account number given by the user while covering all other numbers with an \"X\" character. This version works with any lenght of account identification including numbers and letters, covers the first characters of any number with an \"X\" and displays the last 4 characters.\n",
    ">>    ###### * References: \n",
    ">>###### 1. len function (https://www.geeksforgeeks.org/python-string-length-len/)  \n",
    ">>###### 2. find certain section of a string (https://www.interviewqs.com/ddi-code-snippets/substring-python)"
   ]
  },
  {
   "cell_type": "code",
   "execution_count": 3,
   "metadata": {},
   "outputs": [
    {
     "name": "stdout",
     "output_type": "stream",
     "text": [
      "Please enter your account number: ew34dfs2345wef23r\n",
      "XXXXXXXXXXXXXf23r\n"
     ]
    }
   ],
   "source": [
    "# prompt for account number\n",
    "accno = (input(\"Please enter your account number: \"))\n",
    "#check lenght of original account number (source ref: https://www.geeksforgeeks.org/python-string-length-len/) and take 4 to get the number of \"X\" we need to cover the concealed part of the account number\n",
    "coverlenght = len(str(accno))-4\n",
    "#convert accno to string\n",
    "accstr = str(accno)\n",
    "#display an amount of \"X\" equal to acc number lenght minus 4 and select last 4 characters from account number as string (this allows for letters in the account number) to display last 4 digits/characters\n",
    "print(coverlenght * \"X\" + accstr[(coverlenght):(coverlenght)+4]) #found a nicer slicer (source ref: https://www.interviewqs.com/ddi-code-snippets/substring-python)"
   ]
  },
  {
   "cell_type": "markdown",
   "metadata": {},
   "source": [
    "- #### Week04\n",
    "> w04_collatz.py\n",
    ">> Program asks user to input any positive integer and outputs the successive values of the following calculation; At each step calculate the next value by taking the current value and, if it is even, divide it by two, but if it is odd, multiply it by three and add one. Program ends if the current value is one.\n",
    ">>    ###### * References: \n",
    ">>###### 1. list item data types - ref: (https://www.w3schools.com/python/python_lists.asp)  \n",
    ">>###### 2. print with custom dividers - ref: https://stackoverflow.com/questions/11178061/print-list-without-brackets-in-a-single-row)"
   ]
  },
  {
   "cell_type": "code",
   "execution_count": 4,
   "metadata": {},
   "outputs": [
    {
     "name": "stdout",
     "output_type": "stream",
     "text": [
      "Please enter a positive integer: 25\n",
      "25 76 38 19 58 29 88 44 22 11 34 17 52 26 13 40 20 10 5 16 8 4 2 1\n"
     ]
    }
   ],
   "source": [
    "number = int(input(\"Please enter a positive integer: \"))\n",
    "# creating list to store each value of var(number) per iteration\n",
    "numbers = [str(number)] # convert integer to string to store in list (list item data types - ref: https://www.w3schools.com/python/python_lists.asp)\n",
    "# create loop to repeat until var(number) equals 1\n",
    "while number > 1:\n",
    "    # check if number is even and divide with two if True\n",
    "    if (number % 2) == 0:\n",
    "        number = int(number//2)\n",
    "    #otherwise multiply with 3 and add 1\n",
    "    else:\n",
    "        number = number*3+1\n",
    "    # convert to string and add result to list[numbers]\n",
    "    numbers.append(str(number))\n",
    "# print items of list[numbers] with space as divider\n",
    "print(*numbers) # (print with custom dividers - ref: https://stackoverflow.com/questions/11178061/print-list-without-brackets-in-a-single-row)"
   ]
  },
  {
   "attachments": {},
   "cell_type": "markdown",
   "metadata": {},
   "source": [
    "- #### Week05\n",
    "> w05_weelday.py\n",
    ">> Program checks if current date falls on a weekday or not, using the imported -datetime- module's date.weekday() function that returns the day of the week as an integer, where Monday is 0 and Sunday is 6. \n",
    "An if statement determines wether the current day represented as integer is a weekend day (larger than 4) otherwise it must be a weekday. Based on the if statement results the appropriate message is printed including a full date with dayname display using formatting from Reference below.\n",
    "There is no user interaction in this program.\n",
    ">>    ###### * References: \n",
    ">>###### 1. datetime module - https://docs.python.org/3/library/datetime.html  "
   ]
  },
  {
   "cell_type": "code",
   "execution_count": 1,
   "metadata": {},
   "outputs": [
    {
     "name": "stdout",
     "output_type": "stream",
     "text": [
      "Today's date is:\n",
      "Friday, 03. March 2023\n",
      "Yes, unfortunately today is a weekday.\n"
     ]
    }
   ],
   "source": [
    "from datetime import date\n",
    "today = date.today()\n",
    "day = today.weekday()\n",
    "if day>4:\n",
    "    mytext = \"It is the weekend, yay!\"\n",
    "else:\n",
    "    mytext = \"Yes, unfortunately today is a weekday.\"\n",
    "print(\"Today's date is:\")\n",
    "print(today.strftime(\"%A, %d. %B %Y\"))\n",
    "print(mytext)"
   ]
  },
  {
   "attachments": {},
   "cell_type": "markdown",
   "metadata": {},
   "source": [
    "- #### Week06\n",
    "> w06_squareroot.py\n",
    ">> Program finds approximate square root of a given number with Newton-Raphson Method\n",
    "Created function \"fn_newton\" with two arguments; number, display. \n",
    " \"number\" argument sets the number to calculate with, \n",
    " \"display\" argument determines if the result is displayed as integer (default:0) or a floating point number (1)\n",
    "Using the formula from reference below the program loops until maximum accuracy is reached;\n",
    "    I noticed that while allowing infinite iterations of the square root calculation, Python limits the number of digits at 17 so the results are repeating once 17-digit accuracy is achieved.\n",
    "    Exploiting this \"feature\" the program can store results in a container and check current result against previous iteration. \n",
    "    If the two are the same, the result must be the most accurate within this 17-digit restriction and the program can break out of the loop as there is no need to iterate any more.\n",
    "As a failsafe in case for extreme large numbers a variable for maximum number of iterations is also established, with value set to 100.\n",
    "User interaction provides the starting number where the Program insists on a positive number if negative is given, user also choses if the result is printed as integer or floating point number\n",
    ">>    ###### * References: \n",
    ">>###### 1. Newton-Raphson Method: https://www.geeksforgeeks.org/find-root-of-a-number-using-newtons-method/"
   ]
  },
  {
   "cell_type": "code",
   "execution_count": 11,
   "metadata": {},
   "outputs": [
    {
     "name": "stdout",
     "output_type": "stream",
     "text": [
      "\n",
      "\n",
      " The square root of 42.4242 is approximately: 6.513386216093745\n"
     ]
    }
   ],
   "source": [
    "# -------fn_newton------------------------start\n",
    "def fn_newton(number,disp=0):\n",
    "    i=0\n",
    "    itr=100 #maximum number of iterations in case of extreme large numbers (probably overkill)\n",
    "    x=number #starting number as per user input\n",
    "    res=[] # result container to find the most accurate approximation\n",
    "    while i<itr:\n",
    "        x=(x+number/x)/2 # Calculating the Square Root of a Number using the Newton-Raphson Method\n",
    "        i+=1 # increase iteration counter by 1\n",
    "        if x not in res: # checks if results are repeating\n",
    "            res.append(x) # if not, stores result in the result container \"res[]\" and continues with the loop\n",
    "        else:# if result equals stored result from previous iteration, the current result is the most accurate, the program continues to the return function\n",
    "            if disp==1: #check if user defined result display method (int or float)\n",
    "                return(int(x)) # if user chose int, result returns as int\n",
    "            else:\n",
    "                return(x)  # if user chose float (or left the second argument blank), result returns as float         \n",
    "# -------fn_newton------------------------end\n",
    "\n",
    "# user interaction ---------\n",
    "n=float(input(\"Please enter a positive floating-point number: \")) # user prompted for a positive floating point number\n",
    "while n<=0: # program will wex the user until positive number is given\n",
    "    n=float(input(\"...please enter a positive floating-point number: \")) \n",
    "f=str(input(\"Do you want the result as an integer (Yes?): \")) # User prompted for display method\n",
    "if f== \"Y\" or f==\"y\" or f==\"yes\" or f==\"Yes\": # Program allows for few types of \"yes\" entries for Floating point display, everything else results in integer display\n",
    "    f=1\n",
    "else:\n",
    "    f=0\n",
    "p=fn_newton(n,f) # setting value for \"p\" by calling function fn_newton with arguments defined by user interaction\n",
    "print(f\"\\n\\n The square root of {n} is approximately: {p}\") #starting number and approximate square root is printed as per user interaction"
   ]
  }
 ],
 "metadata": {
  "kernelspec": {
   "display_name": "Python 3 (ipykernel)",
   "language": "python",
   "name": "python3"
  },
  "language_info": {
   "codemirror_mode": {
    "name": "ipython",
    "version": 3
   },
   "file_extension": ".py",
   "mimetype": "text/x-python",
   "name": "python",
   "nbconvert_exporter": "python",
   "pygments_lexer": "ipython3",
   "version": "3.9.13"
  },
  "vscode": {
   "interpreter": {
    "hash": "6d0a43702d9ae9cad8360dad8945dcc9ae90de74b7e60c48cd24e2fb810fd968"
   }
  }
 },
 "nbformat": 4,
 "nbformat_minor": 2
}
