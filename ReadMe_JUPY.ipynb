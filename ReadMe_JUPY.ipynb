{
 "cells": [
  {
   "cell_type": "markdown",
   "metadata": {},
   "source": [
    "## ATU-Galway - Programming and Scripting\n",
    "### Author: Norbert Antal\n",
    "#### **pands-problem-sheet**\n",
    "###### This \"pands-problem-sheet\" folder contains solutions for the weekly tasks."
   ]
  },
  {
   "attachments": {},
   "cell_type": "markdown",
   "metadata": {},
   "source": [
    "## Contents:\n",
    "- Week01: Hello World\n",
    "- Week02: Bank\n",
    "- Week03: Accounts\n",
    "- Week04: Collatz\n",
    "- Week05: Weekday\n",
    "- Week06: Square root\n",
    "- Week07: Character counter\n",
    "- Week08: Plotting\n",
    "<br>"
   ]
  },
  {
   "attachments": {},
   "cell_type": "markdown",
   "metadata": {},
   "source": [
    "### Week01: Hello World\n",
    "> w01_helloworld.py  \n",
    "\n",
    "    Weekly Task Description:\n",
    "    \"Commit and push a file to the problem sheet called helloworld.py\"\n",
    "\n",
    "Program displays \"Hello World!\""
   ]
  },
  {
   "cell_type": "code",
   "execution_count": 1,
   "metadata": {},
   "outputs": [
    {
     "name": "stdout",
     "output_type": "stream",
     "text": [
      "Hello World!\n"
     ]
    }
   ],
   "source": [
    "print(\"Hello World!\")"
   ]
  },
  {
   "attachments": {},
   "cell_type": "markdown",
   "metadata": {},
   "source": [
    "### Week02: Bank\n",
    "> w02_bank.py\n",
    " \n",
    "    Weekly Task Description:\n",
    "    \"Write a program called bank.py \n",
    "    The program should: \n",
    "    - Prompt the user and read in two money amounts (in cent)\n",
    "    - Add the two amounts\n",
    "    - Print out the answer in a human readable format with a euro sign and decimal point between the euro and cent of the amount\"\n",
    "\n",
    "Program prompts the user to type in two money amounts in cents and stores them in 2 variables \"amount1\" and \"amount2\". The program adds the two values together and divides the sum by 100 thus converting the cent values to euro and outputs the answer with a euro sign and decimal point between the euro and cent of the amount."
   ]
  },
  {
   "cell_type": "code",
   "execution_count": 7,
   "metadata": {},
   "outputs": [
    {
     "name": "stdout",
     "output_type": "stream",
     "text": [
      "The sum of these is: \t\t\t€8889.76\n"
     ]
    }
   ],
   "source": [
    "# Prompt user for two money amounts (in cent)\n",
    "amount1 = int(input(\"Enter the first amount (in cents):\\t \"))\n",
    "amount2 = int(input(\"Enter the second amount (in cents):\\t \"))\n",
    "# Add the two amounts and divide sum by 100 to convert cents to euros\n",
    "eur = (amount1+amount2)/100\n",
    "# Display result in requested format\n",
    "print(f\"The sum of these is: \\t\\t\\t€{eur}\")"
   ]
  },
  {
   "attachments": {},
   "cell_type": "markdown",
   "metadata": {},
   "source": [
    "### Week03: Accounts\n",
    "> w03_waccounts.py\n",
    "\n",
    "    Weekly Task Description:\n",
    "    \"Write a python program called accounts.py that reads in\n",
    "    a 10 character account number and outputs the account number\n",
    "    with only the last 4 digits showing \n",
    "    (and the first 6 digits replaced with Xs).\"\n",
    "\n",
    "Program promts user for a 10 digit account number, then devides the number by 10,000 to get the last 4 digits with a modulo operator and stores the value in a variable. Program than prints out 6 \"X\"characrters followed by the 4 digits stored in the variable."
   ]
  },
  {
   "cell_type": "code",
   "execution_count": 8,
   "metadata": {},
   "outputs": [
    {
     "name": "stdout",
     "output_type": "stream",
     "text": [
      "XXXXXX7890\n"
     ]
    }
   ],
   "source": [
    "## prompt for account number\n",
    "accno = int(input(\"Please enter your 10 digit account number: \"))\n",
    "#calculate last 4 digit by taking remainder of division by 10000\n",
    "last4 = str(accno % 10000)\n",
    "#combine 6X and last 4 digits to conceal full account number \n",
    "print(f\"XXXXXX{last4}\")"
   ]
  },
  {
   "attachments": {},
   "cell_type": "markdown",
   "metadata": {},
   "source": [
    "- #### Week03: Extra \n",
    "> w03_accounts2lenght.py\n",
    " \n",
    "    Weekly Task Description Extra: \n",
    "    \"Modify the program to deal with account numbers of any length (yes that is a vague requirement, comment your assumptions)\"\n",
    "\n",
    "The modified program promts user for a 10 digit account number, then checks lenght of the given number using the len function (*Reference 1.*) and deducts 4 to establish how many characters of the accoun t number must be replaced with \"X\". The result is then stored in variable \"coverlenght\". The program then converts the original number to string and stores it in variable \"accstr\" so it can be concatenated and its individual characters can be called between a range (*Reference 2.*). <br>Finally the program concatenates as many \"X\" caracters as the value stored in coverlenght and calls the last 4 digits from \"accstr\" by referring to the range from position that equals coverlenght to position that equals coverlenght + 4.\n",
    "Since the user entry is stored and manipulated as string, there is no limitations to numbers only, the program can deal with any character.\n",
    "- ###### *References:*\n",
    "###### *1. len function (https://www.geeksforgeeks.org/python-string-length-len/)*\n",
    "###### *2. find certain section of a string (https://www.interviewqs.com/ddi-code-snippets/substring-python)*"
   ]
  },
  {
   "cell_type": "code",
   "execution_count": 9,
   "metadata": {},
   "outputs": [
    {
     "name": "stdout",
     "output_type": "stream",
     "text": [
      "XXXXXXXXXXXXXXXXXXXXXXXXb4nk\n"
     ]
    }
   ],
   "source": [
    "# prompt for account number\n",
    "accno = (input(\"Please enter your account number: \"))\n",
    "#check lenght of original account number (source ref: https://www.geeksforgeeks.org/python-string-length-len/) and take 4 to get the number of \"X\" we need to cover the concealed part of the account number\n",
    "coverlenght = len(str(accno))-4\n",
    "#convert accno to string\n",
    "accstr = str(accno)\n",
    "#display an amount of \"X\" equal to acc number lenght minus 4 and select last 4 characters from account number as string (this allows for letters in the account number) to display last 4 digits/characters\n",
    "print(coverlenght * \"X\" + accstr[(coverlenght):(coverlenght)+4]) #found a nicer slicer (source ref: https://www.interviewqs.com/ddi-code-snippets/substring-python)\n"
   ]
  },
  {
   "attachments": {},
   "cell_type": "markdown",
   "metadata": {},
   "source": [
    "### Week04: Collatz\n",
    "> w04_collatz.py\n",
    "\n",
    "    Weekly Task Description:\n",
    "    \"Write a program, called collatz.py, that asks the user to input any positive integer \n",
    "    and outputs the successive values of the following calculation. At each step calculate\n",
    "    the next value by taking the current value and, if it is even, divide it by two, \n",
    "    but if it is odd, multiply it by three and add one.\n",
    "    Have the program end if the current value is one.\n",
    "    Example of it running:\n",
    "    $ python collatz.py\n",
    "    Please enter a positive integer: 10\n",
    "    10 5 16 8 4 2 1\"\n",
    "\n",
    " Program asks user to input any positive integer which is stored as integer in variable \"number\". A list \"numbers[]\" is created where each result of the calculation will be stored (*Reference 1.*). <br> The formula to get each member of a Collatz sequence was provided in the Weekly Task Description. The program assumes the endpoint of a Collatz seqence is always positive 1 /until someone proves otherwise/ (*Reference 3. and 4.*) so a while loop is initiated which breaks when the value of \"number\" reaches 1. <br>Whithin the while loop an if statement assigns the appropriate calculations to odd and even numbers based on their divisibility with 2 with 0 remiander using a modulus operator.<br> The result of each itearations updates the variable \"number\" than stored in list \"numbers[]\" (*Reference 1.*). Once the value of \"number\" reaches 1, the loop is ended and the values stored in \"numbers\" are printed with formatting that prints each item side by side with space as divider (*Reference 2.*) as per example in the task description.\n",
    "-    ###### *References:* \n",
    "###### *1. list item data types - ref: (https://www.w3schools.com/python/python_lists.asp)*\n",
    "###### *2. print with custom dividers - ref: (https://stackoverflow.com/questions/11178061/pint-list-without-brackets-in-a-single-row)*\n",
    "###### *3. Collatz conjencture - ref: (https://en.wikipedia.org/wiki/Collatz_conjecture)*\n",
    "###### *4. The Simplest Math Problem No One Can Solve - Collatz Conjecture - ref: (https://www.youtube.com/watch?v=094y1Z2wpJg&t=1s)*"
   ]
  },
  {
   "cell_type": "code",
   "execution_count": 13,
   "metadata": {},
   "outputs": [
    {
     "name": "stdout",
     "output_type": "stream",
     "text": [
      "43 130 65 196 98 49 148 74 37 112 56 28 14 7 22 11 34 17 52 26 13 40 20 10 5 16 8 4 2 1\n"
     ]
    }
   ],
   "source": [
    "number = int(input(\"Please enter a positive integer: \"))\n",
    "# creating list to store each value of var(number) per iteration\n",
    "numbers = [str(number)] # convert integer to string to store in list (list item data types - ref: https://www.w3schools.com/python/python_lists.asp)\n",
    "# create loop to repeat until var(number) equals 1\n",
    "while number > 1:\n",
    "    # check if number is even and divide with two if True\n",
    "    if (number % 2) == 0:\n",
    "        number = int(number//2)\n",
    "    #otherwise multiply with 3 and add 1\n",
    "    else:\n",
    "        number = number*3+1\n",
    "    # convert to string and add result to list[numbers]\n",
    "    numbers.append(str(number))\n",
    "# print items of list[numbers] with space as divider\n",
    "print(*numbers) # (print with custom dividers - ref: https://stackoverflow.com/questions/11178061/print-list-without-brackets-in-a-single-row)"
   ]
  },
  {
   "attachments": {},
   "cell_type": "markdown",
   "metadata": {},
   "source": [
    "### Week05: Weekday\n",
    "> w05_weekday.py\n",
    "\n",
    "    Weekly Task Description:\n",
    "    \"Write a program that outputs whether or not today is a weekday.\"\n",
    "\n",
    "Program checks if current date falls on a weekday or not, using the imported -datetime- module's date.weekday() function that returns the day of the week as an integer, where Monday is 0 and Sunday is 6. (*Reference 1.*)<br> \n",
    "An if statement determines wether the current day represented as integer is a weekend day (larger than 4) otherwise it must be a weekday. Based on the if statement the appropriate message is printed.\n",
    "There is no user interaction in this program.\n",
    ">###### *References:* \n",
    ">###### *1. datetime module - (https://docs.python.org/3/library/datetime.html)*"
   ]
  },
  {
   "cell_type": "code",
   "execution_count": 14,
   "metadata": {},
   "outputs": [
    {
     "name": "stdout",
     "output_type": "stream",
     "text": [
      "Today's date is:\n",
      "Monday, 06. March 2023\n",
      "Yes, unfortunately today is a weekday.\n"
     ]
    }
   ],
   "source": [
    "from datetime import date\n",
    "today = date.today()\n",
    "day = today.weekday()\n",
    "if day>4:\n",
    "    mytext = \"It is the weekend, yay!\"\n",
    "else:\n",
    "    mytext = \"Yes, unfortunately today is a weekday.\"\n",
    "print(\"Today's date is:\")\n",
    "print(today.strftime(\"%A, %d. %B %Y\"))\n",
    "print(mytext)"
   ]
  },
  {
   "attachments": {},
   "cell_type": "markdown",
   "metadata": {},
   "source": [
    "### Week06: Square root\n",
    "> w06_squareroot.py\n",
    "\n",
    "    Weekly Task Description:\n",
    "    \"Write a program that takes a positive floating-point number as input and outputs an approximation of its square root. You should create a function called <tt>sqrt</tt> that does this. I am asking you to create your own sqrt function and not to use the built in functions x ** .5 or math.sqrt(x). This is to demonstrate that you can research and code a process (If you really needed the square root you would use one of the above methods). I suggest that you look at the newton method at estimating square roots.\n",
    "\n",
    "Program is separated into two parts;<br><br> **First part** is defining the square root function \"fn_newton\" to find a close approximate for square root of a given number with Newton-Raphson Method (*Reference 1.*) <br>The function \"fn_newton\" has 2 arguments;<br> \"number\" for storing the starting number from user interaction later and <br> \"display\" argument that determines if the result is displayed as floating point number (default:0) or as an integer (1) <br><br>\n",
    "The function starts with setting up values for the iterators, \"i\" is the iterator and \"itr\" is the maximum number of iterations. Also giving the value of \"number\" for \"x\" for the first iteration of the \"x=0.5*(x+number/x)\" formula (*Reference 2.*).<br> <br>\n",
    "Initially planned to iterate the calculation a set number of times and see what gives the best approximation but noticed that while allowing infinite iterations for the square root calculation, Python limits the number of digits at 17 so the results are repeating once 17-digit accuracy is achieved.<br> I found this number representation issue mentioned in reference to older versions of Python as well (*Reference 2.*).<br>\n",
    "Exploiting this 'feature' so to speak, I created a container for the results \"res[]\" so the program can store results in a list and check current result against the result from the previous iteration. <br> <br>\n",
    "Once current result and previous iteration are the same, the result must be the most accurate within this 17-digit restriction and the program can break out of the loop as there is no need to iterate any more. \n",
    "<br><br>\n",
    "The **second part** of the program is user interaction which provides the starting number where the Program insists on a positive number if negative is given, and user also choses if the result is printed as integer or floating point number. <br>\n",
    "- **Notes:**\n",
    "<br>\n",
    "By rounding the calculation to a smaller number than 17, thus reducing accuracy, the return of the result can be quicker. To avoid \"feature creep\", I ultimately removed this function. I left \"display\" argument only to demonstrate default values in function arguments.\n",
    "\n",
    "- ###### *References:*\n",
    "###### *1. Newton-Raphson Method: (https://en.wikipedia.org/wiki/Newton%27s_method)*\n",
    "###### *2. Newton-Raphson Formula: (https://www.geeksforgeeks.org/find-root-of-a-number-using-newtons-method/)*\n",
    "###### *3. Floating Point Arithmetic: Issues and Limitations: (https://docs.python.org/3/tutorial/floatingpoint.html)*"
   ]
  },
  {
   "cell_type": "code",
   "execution_count": 16,
   "metadata": {},
   "outputs": [
    {
     "name": "stdout",
     "output_type": "stream",
     "text": [
      "\n",
      "\n",
      " The square root of 43.42 is approximately: 6.589385403814228\n"
     ]
    }
   ],
   "source": [
    "# -------fn_newton------------------------start\n",
    "\n",
    "def fn_newton(number,disp=0):\n",
    "    i=0\n",
    "    itr=100 #maximum number of iterations in case of extreme large numbers (probably overkill)\n",
    "    x=number #starting number as per user input\n",
    "    res=[] # result container to find the most accurate approximation\n",
    "    while i<itr:\n",
    "        x=0.5*(x+number/x) # Calculating the Square Root of a Number using the Newton-Raphson Method\n",
    "        i+=1 # increase iteration counter by 1\n",
    "        if x not in res: # checks if results are repeating\n",
    "            res.append(x) # if not, stores result in the result container \"res[]\" and continues with the loop\n",
    "        else:# if result equals stored result from previous iteration, the current result is the most accurate, the program continues to the return function\n",
    "            if disp==1: #check if user defined result display method (int or float)\n",
    "                return(int(x)) # if user chose int, result returns as int\n",
    "            else:\n",
    "                return(x)  # if user chose float (or left the second argument blank), result returns as float\n",
    "            \n",
    "# -------fn_newton------------------------end\n",
    "\n",
    "# user interaction ---------\n",
    "n=float(input(\"Please enter a positive floating-point number: \")) # user prompted for a positive floating point number\n",
    "while n<=0: # program will wex the user until positive number is given\n",
    "    n=float(input(\"...please enter a positive floating-point number: \")) \n",
    "f=str(input(\"Do you want the result as an integer (Yes?): \")) # User prompted for display method\n",
    "if f== \"Y\" or f==\"y\" or f==\"yes\" or f==\"Yes\": # Program allows for few types of \"yes\" entries for Floating point display, everything else results in integer display\n",
    "    f=1\n",
    "else:\n",
    "    f=0\n",
    "p=fn_newton(n,f) # setting value for \"p\" by calling function fn_newton with arguments defined by user interaction\n",
    "print(f\"\\n\\n The square root of {n} is approximately: {p}\") #starting number and approximate square root is printed as per user interaction\n"
   ]
  },
  {
   "attachments": {},
   "cell_type": "markdown",
   "metadata": {},
   "source": [
    "## Week07: Character counter\n",
    "###  Simple version\n",
    "> w07_es.py\n",
    "    \n",
    "    Weekly Task Description:\n",
    "    \"Write a program that reads in a text file and outputs the number of e's it contains.\n",
    "    The program should take the filename from an argument on the command line. I have not shown you how to do this, you need to look it up.\"    \n",
    "    \n",
    "- *Program assumes the user already knows that moby-dick.txt must be given as argument.*\n",
    "\n",
    "Program reads in a text file with filename passed from argument on command line to \"FILENAME\" variable using the imported **sys module** (ref 1. and 2.). File is read in as \"f\" using the with method as discussed in week 7 lecture.<br> A for loop reads in each line of the text stored in \"f\" as \"data\". Text in \"data\" is formatted by stripping leading and trailing characters (ref 3.), the result is stored in variable \"text\". Another for loop cycles throuhg each character storing current character in \"t\". An if statement checks if the current character in \"t\" variable is a character **e**, if so, variable \"count\" is increased by one (ref 4.). When the loop finished, the accumulated value of \"count\" is printed.<br>\n",
    "***Limitations:*** Program only works with text file **moby-dick.txt** located in the same directory and only looks for the character **\"e\"**.\n",
    "\n",
    "- ###### *References:* \n",
    "###### *1. Command line Arguments with sys module ref: (https://www.pythonforbeginners.com/argv/more-fun-with-sys-argv#:~:text=argv%3F-,sys)*\n",
    "###### *2. CLA with sys ref: (https://www.youtube.com/watch?v=QJBVjBq4c7E)*\n",
    "###### *3. strip method ref: (https://www.w3schools.com/python/ref_string_strip.asp#:~:text=The%20strip()%20method%20removes,default%20leading%20character%20to%20remove)*\n",
    "###### *4. count occurence ref: (https://www.geeksforgeeks.org/python-count-occurrences-of-a-character-in-string/)*\n",
    "<br>"
   ]
  },
  {
   "cell_type": "code",
   "execution_count": null,
   "metadata": {},
   "outputs": [],
   "source": [
    "#THIS IS NOT SUITABLE FOR RUNNING IN JUPYTER NOTEBOOK#\n",
    "\n",
    "import sys # module to use Command line arguments\n",
    "\n",
    "FILENAME = sys.argv[1] # passing second argument (first is always the filename in sys)\n",
    "count = 0 #setting counter to 0\n",
    "with open(FILENAME, \"rt\") as f: # reading in file with filename passed from command line argument as \"f\"\n",
    "        for data in f: # reading each line in f and storing as \"data\"\n",
    "            text = data.strip() #removing leading and trailing characters and storing stripped in \"text\"\n",
    "            for t in text: # cycling through each character in text and storing as \"t\"\n",
    "                if t == \"e\": # checking if current character in \"t\" is an e character\n",
    "                    count += 1 #if yes, increase count by one\n",
    "        print(count) #print accumulated value of \"count\""
   ]
  },
  {
   "attachments": {},
   "cell_type": "markdown",
   "metadata": {},
   "source": [
    "### Extended version\n",
    "> w07_es_xt.py\n",
    "\n",
    "- Extended version assumes the user starts the program unaware that arguments must be given. The programs features extended so it works with any of the files stored in specific folder \"textfiles\" and the user can chose any character while default is \"e\".\n",
    "\n",
    "Command Line Arguments configured using **argparse** instead of sys. (ref 1. and 2.)are passing 2 arguments to a function \"fn_counter\" <br>\n",
    "**Command Line Argumnents are:**<br>\n",
    "**-f** for a filename to read in. This is passed to the \"FILENAME\" argument in function \"fn_counter\"<br>\n",
    "**-c** for a character to count. This is passed to the \"SEARCH\" argument in \"fn_counter\" with default value \"e\".<br>\n",
    "Program calls function \"fn_counter\" that carries out the task of reading in the text file given in the Command line argument as -f and counts the character given as second argument as -c while default is \"e\".<br> The textfile is read in as UTF-8 to deal with the read errors I encounterd. (ref 3.)\n",
    "<br>When the loop finished the results are printed including file name, character count and character selected.<br>\n",
    "**Error Handling**:\n",
    "Program runs a try / except (ref 3.) error handling to deal with running with no arguments or with filenames that are not in the folder. This includes a function \"fn_list\" that is listing all files in \"textfiles\" directory using the imported os module's os.scandir() function (ref 5.).<br>at \"try\" the programm calls \"fn_counter\" with arguments passed from command line<br>\n",
    "at \"except\" the program instruct user regarding arguents and provides list of availbale text files stored in \"textfiles\" folder\n",
    "\n",
    "- ###### *References:* \n",
    "###### *1. argparse ref: (https://www.youtube.com/watch?v=cdblJqEUDNo)*\n",
    "###### *2. argparse ref. (https://docs.python.org/3/library/argparse.html)*\n",
    "######  Count occurence ref: (https://www.geeksforgeeks.org/python-count-occurrences-of-a-character-in-string/)\n",
    "###### *3. Open textfile with encoding specified ref: (https://stackoverflow.com/questions/9233027/unicodedecodeerror-charmap-codec-cant-decode-byte-x-in-position-y-character)\n",
    "###### *4. error handling \"try/except\" ref: (https://www.w3schools.com/python/python_try_except.asp)*\n",
    "###### *5 os.scnadir() ref: (https://docs.python.org/3/library/os.html#os.scandir)*\n",
    "###### *6 line split ref: (https://www.youtube.com/watch?v=oAFkPMbwRVY&t=214s)*"
   ]
  },
  {
   "cell_type": "code",
   "execution_count": null,
   "metadata": {},
   "outputs": [],
   "source": [
    "#THIS IS NOT SUITABLE FOR RUNNING IN JUPYTER NOTEBOOK#\n",
    "\n",
    "import argparse # argparse module to set up command line arguments\n",
    "import os # os module to scan files in directory\n",
    "\n",
    "#--------------configuring Command line arguments-------------\n",
    "parser = argparse.ArgumentParser(description=\"Count character occurances in text\")\n",
    "parser.add_argument(\"-f\", \"--file\", type=str, required=False, help=\"filename with extension (mandatory argument)\")\n",
    "parser.add_argument(\"-c\", \"--char\", type=str, required=False, default= \"e\", help= \"a character (optional, default is: e)\")\n",
    "args = parser.parse_args()\n",
    "\n",
    "#-------counter-function\n",
    "def fn_counter(FILENAME,SEARCH): # define counter function with 2 arguments for filename to read and character to search\n",
    "    count=0 # initialise counter\n",
    "    with open(f\"textfiles/{FILENAME}\", \"rt\", encoding=\"utf8\") as f: #reading in file within \"textfiles\" directory as per name passed from command line argument\n",
    "        for data in f: # reading each line in f and storing as \"data\"\n",
    "            text = data.strip() #removing leading and trailing characters and storing stripped in \"text\"\n",
    "            for t in text: # cycling through each character in text and storing as \"t\"\n",
    "                if t == SEARCH: # checking if current character in \"t\" is the character passed from command line argument\n",
    "                    count += 1 # increase count if character matches\n",
    "        print(f\"\\n{FILENAME} has {count} counts of \\\"{SEARCH}\\\" characters.\\n\") #print result along with filename and target character\n",
    "\n",
    "# ------------- file list function\n",
    "def fn_list(): # define function to list available text files in \"textfiles\" directory\n",
    "    filelst=os.scandir('textfiles/')\n",
    "    for f in filelst:\n",
    "        print(f)\n",
    "        \n",
    "\n",
    "#-------------call counter function with CLA or print file list if filename doesn't match-----------\n",
    "\n",
    "try:\n",
    "    fn_counter(args.file,args.char) # calling function with arguments passed from command line arguments\n",
    "except: # giving user instructions and calling \"fn_list\" to create available file list\n",
    "    print(\"\"\"\\nERROR - Something didn't work out as planned.\\n \n",
    "    Please use arguments:\n",
    "  -f, filename with extension (mandatory argument)\n",
    "  -c, a character to count (default is: e)\n",
    "    \\nCurrently available text files: \\n\"\"\")\n",
    "    fn_list()"
   ]
  },
  {
   "attachments": {},
   "cell_type": "markdown",
   "metadata": {},
   "source": [
    "### Week08: Plotting\n",
    "> w08_plottask.py\n",
    "\n",
    "    Weekly Task Description:\n",
    "    \"Write a program called plottask.py that displays:\n",
    "        - a histogram of a normal distribution of a 1000 values with a mean of 5 and standard deviation of 2,\n",
    "        - and a plot of the function  h(x)=x3 in the range [0, 10],\n",
    "    on the one set of axes.\"\n",
    "\n",
    "Program imports two libraries: numpy and matplotlib.pyplot, then generates a list of 1000 random numbers from a normal distribution with a mean of 5 and a standard deviation of 2 using the numpy library and stores it in \"numbers\" variable(*Reference 1.*).<br>\n",
    "Next, the program defines values for x in **h(x)=x^3** and creates a list of these values in the range from 0 to 10 using a for loop and stores them in \"xcubed\" variable.<br>\n",
    "Afterward, the program defines and assigns various styles for plot elements. (*Reference 2. and 3.*)<br> Then creates the various labels and assigns styles to them. The title font style is set separately so it can be displayed with a different font style. Exponent in \"h(x)=x^3\" formula set to superscript in all occurences. (*Reference 4. and 5.*)<br>\n",
    "The program then plots the histogram of the 1000 random numbers from the normal distribution using the hist() function from matplotlib, with the colour of the bars being set to green as shown in the lecture, colours defined by hexacode. Program also plots the function h(x)=x^3 using the plot() function from matplotlib, with custom colour and line style.<br>\n",
    "A legend is configured to the plot with labels for the histogram and function h(x)=x^3. The plot is then displayed using the show() function.\n",
    "\n",
    "- ###### *References:* \n",
    "###### *1. numpy ref: https://numpy.org/doc/stable/reference/random/generated/numpy.random.normal.html*\n",
    "###### *2. matplotlib ref: https://matplotlib.org/stable/tutorials/introductory/quick_start.html*\n",
    "###### *3. customise default style ref: https://stackoverflow.com/questions/3899980/how-to-change-the-font-size-on-a-matplotlib-plot*\n",
    "###### *4. change font style for title ref: https://stackoverflow.com/questions/29426075/how-to-modify-the-font-size-in-matplotlib-venn/70231723#70231723*\n",
    "##### *5  superscript ref: https://stackoverflow.com/questions/21226868/superscript-in-python-plots*"
   ]
  },
  {
   "cell_type": "code",
   "execution_count": 5,
   "metadata": {},
   "outputs": [
    {
     "data": {
      "image/png": "[encoded data removed]",
      "text/plain": [
       "<Figure size 640x480 with 1 Axes>"
      ]
     },
     "metadata": {},
     "output_type": "display_data"
    }
   ],
   "source": [
    "import numpy as np\n",
    "import matplotlib.pyplot as plt\n",
    "\n",
    "numbers = np.random.normal(5,2,1000) # 1000 values with a mean of 5 and standard deviation of 2\n",
    "# ------ h(x)=x**3--------------->\n",
    "xcubed=[]\n",
    "for i in range(0,11):\n",
    "    x=i**3\n",
    "    xcubed.append(x)\n",
    "#---------------------------------I\n",
    "#-----------def plot styles------------------------------>\n",
    "ax=plt.axes()\n",
    "ax.set_facecolor(\"#F0F4EF\")\n",
    "plt.grid(True, color=\"#799377\")\n",
    "small = 8\n",
    "med = 10\n",
    "big = 14\n",
    "plt.rc(\"font\", size=small)          # controls default text sizes\n",
    "plt.rc(\"axes\", titlesize=small)     # fontsize of the axes title\n",
    "plt.rc(\"axes\", labelsize=med)    # fontsize of the x and y labels\n",
    "plt.rc(\"xtick\", labelsize=small)    # fontsize of the tick labels\n",
    "plt.rc(\"ytick\", labelsize=small)    # fontsize of the tick labels\n",
    "plt.rc(\"legend\", fontsize=small)    # legend fontsize\n",
    "plt.rc(\"font\", family=\"serif\")          # controls default text style\n",
    "specfont1 = {\"family\":\"serif\",\"color\":\"#4a6741\",\"size\":14}\n",
    "#--------------------------------------------------------------I\n",
    "#---------------labels---------------------->\n",
    "plt.title(\"\"\"Week 08 task - A histogram of a normal distribution \n",
    "of 1000 values with a mean of 5, and standard deviation of 2, \n",
    "and a plot of the function  h(x)=$\\mathregular{x^3}$ in the range [0, 10]\"\"\", fontdict=specfont1)\n",
    "plt.xlabel(\"Normal distribution\",color=\"#4a6741\")\n",
    "plt.ylabel(\"h(x)=$\\mathregular{x^3}$\", color=\"#E74C3C\")\n",
    "#-------------------------------------------I\n",
    "#--------plotting ----------->\n",
    "plt.hist(numbers,color=\"#4a6741\")\n",
    "plt.plot(xcubed,color=\"#E74C3C\",linestyle=\"dotted\")\n",
    "#-----------------------------I\n",
    "plt.legend([\"h(x)=$\\mathregular{x^3}$\",\"Normal distribution\"])\n",
    "plt.show()"
   ]
  }
 ],
 "metadata": {
  "kernelspec": {
   "display_name": "Python 3 (ipykernel)",
   "language": "python",
   "name": "python3"
  },
  "language_info": {
   "codemirror_mode": {
    "name": "ipython",
    "version": 3
   },
   "file_extension": ".py",
   "mimetype": "text/x-python",
   "name": "python",
   "nbconvert_exporter": "python",
   "pygments_lexer": "ipython3",
   "version": "3.9.13"
  },
  "vscode": {
   "interpreter": {
    "hash": "6d0a43702d9ae9cad8360dad8945dcc9ae90de74b7e60c48cd24e2fb810fd968"
   }
  }
 },
 "nbformat": 4,
 "nbformat_minor": 2
}
