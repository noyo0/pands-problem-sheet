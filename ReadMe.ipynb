{
 "cells": [
  {
   "cell_type": "markdown",
   "metadata": {},
   "source": [
    "## ATU-Galway - Programming and Scripting\n",
    "### Author: Norbert Antal\n",
    "#### **pands-problem-sheet**\n",
    "###### This \"pands-problem-sheet\" folder contains solutions for the weekly tasks."
   ]
  },
  {
   "cell_type": "markdown",
   "metadata": {},
   "source": [
    "- #### Week01\n",
    "> w01_helloworld.py  \n",
    ">> Program displays \"Hello World!\"\n",
    "print(\"Hello World!\")"
   ]
  },
  {
   "cell_type": "code",
   "execution_count": 1,
   "metadata": {},
   "outputs": [
    {
     "name": "stdout",
     "output_type": "stream",
     "text": [
      "Hello World!\n"
     ]
    }
   ],
   "source": [
    "print(\"Hello World!\")"
   ]
  },
  {
   "cell_type": "markdown",
   "metadata": {},
   "source": [
    "- #### Week02\n",
    "> w02_bank.py\n",
    ">> Program prompts the user and read in two money amounts in cents, adds the two amounts together and outputs the answer with a euro sign and decimal point between the euro and cent of the amount."
   ]
  },
  {
   "cell_type": "code",
   "execution_count": null,
   "metadata": {},
   "outputs": [],
   "source": [
    "# Prompt user for two money amounts (in cent)\n",
    "amount1 = int(input(\"Enter the first amount (in cents):\\t \"))\n",
    "amount2 = int(input(\"Enter the second amount (in cents):\\t \"))\n",
    "# Add the two amounts and divide sum by 100 to convert cents to euros\n",
    "eur = (amount1+amount2)/100\n",
    "# Display result in requested format\n",
    "print(f\"The sum of these is: \\t\\t\\t€{eur}\")"
   ]
  },
  {
   "cell_type": "markdown",
   "metadata": {},
   "source": [
    "> w03_accounts2lenght.py\n",
    ">> Similar to above but works with any lenght of account identification including numbers and letters, covers the first characters of any number with an \"X\" and displays the last 4 characters.\n",
    ">>    ###### * References: \n",
    ">>###### 1. len function (https://www.geeksforgeeks.org/python-string-length-len/)  \n",
    ">>###### 2. find certain section of a string (https://www.interviewqs.com/ddi-code-snippets/substring-python)"
   ]
  },
  {
   "cell_type": "code",
   "execution_count": 3,
   "metadata": {},
   "outputs": [
    {
     "name": "stdout",
     "output_type": "stream",
     "text": [
      "Please enter your account number: ew34dfs2345wef23r\n",
      "XXXXXXXXXXXXXf23r\n"
     ]
    }
   ],
   "source": [
    "# prompt for account number\n",
    "accno = (input(\"Please enter your account number: \"))\n",
    "#check lenght of original account number (source ref: https://www.geeksforgeeks.org/python-string-length-len/) and take 4 to get the number of \"X\" we need to cover the concealed part of the account number\n",
    "coverlenght = len(str(accno))-4\n",
    "#convert accno to string\n",
    "accstr = str(accno)\n",
    "#display an amount of \"X\" equal to acc number lenght minus 4 and select last 4 characters from account number as string (this allows for letters in the account number) to display last 4 digits/characters\n",
    "print(coverlenght * \"X\" + accstr[(coverlenght):(coverlenght)+4]) #found a nicer slicer (source ref: https://www.interviewqs.com/ddi-code-snippets/substring-python)"
   ]
  },
  {
   "cell_type": "markdown",
   "metadata": {},
   "source": [
    "- #### Week04\n",
    "> w04_collatz.py\n",
    ">> Program asks user to input any positive integer and outputs the successive values of the following calculation; At each step calculate the next value by taking the current value and, if it is even, divide it by two, but if it is odd, multiply it by three and add one. Program ends if the current value is one.\n",
    ">>    ###### * References: \n",
    ">>###### 1. list item data types - ref: (https://www.w3schools.com/python/python_lists.asp)  \n",
    ">>###### 2. print with custom dividers - ref: https://stackoverflow.com/questions/11178061/print-list-without-brackets-in-a-single-row)"
   ]
  },
  {
   "cell_type": "code",
   "execution_count": 4,
   "metadata": {},
   "outputs": [
    {
     "name": "stdout",
     "output_type": "stream",
     "text": [
      "Please enter a positive integer: 25\n",
      "25 76 38 19 58 29 88 44 22 11 34 17 52 26 13 40 20 10 5 16 8 4 2 1\n"
     ]
    }
   ],
   "source": [
    "number = int(input(\"Please enter a positive integer: \"))\n",
    "# creating list to store each value of var(number) per iteration\n",
    "numbers = [str(number)] # convert integer to string to store in list (list item data types - ref: https://www.w3schools.com/python/python_lists.asp)\n",
    "# create loop to repeat until var(number) equals 1\n",
    "while number > 1:\n",
    "    # check if number is even and divide with two if True\n",
    "    if (number % 2) == 0:\n",
    "        number = int(number//2)\n",
    "    #otherwise multiply with 3 and add 1\n",
    "    else:\n",
    "        number = number*3+1\n",
    "    # convert to string and add result to list[numbers]\n",
    "    numbers.append(str(number))\n",
    "# print items of list[numbers] with space as divider\n",
    "print(*numbers) # (print with custom dividers - ref: https://stackoverflow.com/questions/11178061/print-list-without-brackets-in-a-single-row)"
   ]
  },
  {
   "cell_type": "code",
   "execution_count": null,
   "metadata": {},
   "outputs": [],
   "source": []
  }
 ],
 "metadata": {
  "kernelspec": {
   "display_name": "Python 3 (ipykernel)",
   "language": "python",
   "name": "python3"
  },
  "language_info": {
   "codemirror_mode": {
    "name": "ipython",
    "version": 3
   },
   "file_extension": ".py",
   "mimetype": "text/x-python",
   "name": "python",
   "nbconvert_exporter": "python",
   "pygments_lexer": "ipython3",
   "version": "3.9.13"
  },
  "vscode": {
   "interpreter": {
    "hash": "6d0a43702d9ae9cad8360dad8945dcc9ae90de74b7e60c48cd24e2fb810fd968"
   }
  }
 },
 "nbformat": 4,
 "nbformat_minor": 2
}
